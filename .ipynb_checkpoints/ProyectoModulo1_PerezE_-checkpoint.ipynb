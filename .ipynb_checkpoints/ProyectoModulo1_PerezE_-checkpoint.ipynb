{
 "cells": [
  {
   "cell_type": "markdown",
   "metadata": {},
   "source": [
    "## Producción con proceso I, II y III, Demanda máxima de C es 10 ton/hr\n",
    "___\n",
    "**Código de colores:**\n",
    "<font color = red>Proceso I</font>   \n",
    "<font color = green>Proceso II</font>  \n",
    "<font color = blue>Proceso III</font>  \n",
    "<font color = yellow>Demanda de C hasta 10 ton/hr</font>  \n",
    "<font color = Purple>Demanda de C hasta 15 ton/hr</font>  \n",
    "\n",
    "**Ganancía Total:**  \n",
    "$$-(-(950B_0) \\color{red}{-(500A_1)-(1000N)-(250A_1)} \\color{green}{-(1500N)-(400B_2)}\\color{blue}{-(2000N)-(550B_3)}\\color{yellow}{+(1800CD1)})$$  \n",
    "\n",
    "**Restricciones:**\n",
    "$$\\color{red}{B_1-0.9A_1 = 0}$$\n",
    "$$B_2+B_3-B_1-B_0 = 0$$\n",
    "$$\\color{green}{C_2-0.82B_2 = 0}$$\n",
    "$$\\color{blue}{C_3-0.95B_3= 0}$$\n",
    "$$\\color{yellow}{CD_1-C_2-C_3 = 0}$$\n",
    "$$\\color{red}{A_1 \\leq 16}$$\n",
    "$$\\color{yellow}{CD_1 \\leq 10}$$\n",
    "$$\\color{yellow}{-CD_1 \\leq 0}$$\n",
    "$$N \\leq 1$$\n",
    "$$-N \\leq -1$$"
   ]
  },
  {
   "cell_type": "code",
   "execution_count": 1,
   "metadata": {},
   "outputs": [
    {
     "data": {
      "text/plain": [
       "     fun: 1061.40350877193\n",
       " message: 'Optimization terminated successfully.'\n",
       "     nit: 9\n",
       "   slack: array([ 4.30409357,  0.        , 10.        ,  0.        ,  0.        ])\n",
       "  status: 0\n",
       " success: True\n",
       "       x: array([1.16959064e+01, 0.00000000e+00, 1.05263158e+01, 0.00000000e+00,\n",
       "       1.05263158e+01, 1.77635684e-15, 1.00000000e+01, 1.00000000e+01,\n",
       "       1.00000000e+00])"
      ]
     },
     "execution_count": 1,
     "metadata": {},
     "output_type": "execute_result"
    }
   ],
   "source": [
    "import scipy.optimize as opt\n",
    "import numpy as np\n",
    "C = np.array([750, 950, 0, 400, 550, 0, 0, -1800, 4500])\n",
    "Ae = np.array([[-0.9,0,1,0,0,0,0,0,0],\n",
    "               [0,-1,-1,1,1,0,0,0,0],\n",
    "               [0,0,0,-0.82,0,1,0,0,0],\n",
    "               [0,0,0,0,-0.95,0,1,0,0],\n",
    "               [0,0,0,0,0,-1,-1,1,0]])\n",
    "be = np.array([0,0,0,0,0])\n",
    "Ad = np.array([[1,0,0,0,0,0,0,0,0],\n",
    "               [0,0,0,0,0,0,0,1,0],\n",
    "               [0,0,0,0,0,0,0,-1,0],\n",
    "               [0,0,0,0,0,0,0,0,1],\n",
    "               [0,0,0,0,0,0,0,0,-1]])\n",
    "bd = np.array([16,10,0,1,-1])\n",
    "resultado = opt.linprog(C, A_ub=Ad, b_ub=bd, A_eq=Ae, b_eq=be)\n",
    "resultado\n"
   ]
  },
  {
   "cell_type": "code",
   "execution_count": 2,
   "metadata": {},
   "outputs": [
    {
     "data": {
      "text/html": [
       "<div>\n",
       "<style scoped>\n",
       "    .dataframe tbody tr th:only-of-type {\n",
       "        vertical-align: middle;\n",
       "    }\n",
       "\n",
       "    .dataframe tbody tr th {\n",
       "        vertical-align: top;\n",
       "    }\n",
       "\n",
       "    .dataframe thead th {\n",
       "        text-align: right;\n",
       "    }\n",
       "</style>\n",
       "<table border=\"1\" class=\"dataframe\">\n",
       "  <thead>\n",
       "    <tr style=\"text-align: right;\">\n",
       "      <th></th>\n",
       "      <th>A1</th>\n",
       "      <th>B0</th>\n",
       "      <th>B1</th>\n",
       "      <th>B2</th>\n",
       "      <th>B3</th>\n",
       "      <th>C2</th>\n",
       "      <th>C3</th>\n",
       "      <th>CD1</th>\n",
       "      <th>Ganancia</th>\n",
       "    </tr>\n",
       "  </thead>\n",
       "  <tbody>\n",
       "    <tr>\n",
       "      <th>Variables</th>\n",
       "      <td>11.695906</td>\n",
       "      <td>0.0</td>\n",
       "      <td>10.526316</td>\n",
       "      <td>0.0</td>\n",
       "      <td>10.526316</td>\n",
       "      <td>1.776357e-15</td>\n",
       "      <td>10.0</td>\n",
       "      <td>10.0</td>\n",
       "      <td>-1061.403509</td>\n",
       "    </tr>\n",
       "  </tbody>\n",
       "</table>\n",
       "</div>"
      ],
      "text/plain": [
       "                  A1   B0         B1   B2         B3            C2    C3  \\\n",
       "Variables  11.695906  0.0  10.526316  0.0  10.526316  1.776357e-15  10.0   \n",
       "\n",
       "            CD1     Ganancia  \n",
       "Variables  10.0 -1061.403509  "
      ]
     },
     "execution_count": 2,
     "metadata": {},
     "output_type": "execute_result"
    }
   ],
   "source": [
    "import pandas as pd\n",
    "info = pd.DataFrame({'A1': [resultado.x[0]], 'B0': [resultado.x[1]], 'B1': [resultado.x[2]], 'B2': [resultado.x[3]], 'B3': [resultado.x[4]], 'C2': [resultado.x[5]], 'C3': [resultado.x[6]], 'CD1': [resultado.x[7]], 'Ganancia': [-resultado.fun]}, index = ['Variables'])\n",
    "info"
   ]
  },
  {
   "cell_type": "markdown",
   "metadata": {},
   "source": [
    "Los resultados de la tabla muestran que no se comprara nada de B del mercado y en cambio todo sera producido a partir del proceso I, a su vez la formación de C se realizara únicamente por el proceso III.  \n",
    "Debido a que aunque no se usó el proceso II para la producción de C y aun así  se contempla su gasto por hora de uso, el resultado índica que se genera una perdida de 1061, este debe de ser calculado denuevo con un sistma que únicamente contemple los gastos generados por el proceso I y III."
   ]
  },
  {
   "cell_type": "markdown",
   "metadata": {},
   "source": [
    "## Producción con proceso I y III, Demanda máxima de C es 10 ton/hr\n",
    "___\n",
    "**Código de colores:**\n",
    "<font color = red>Proceso I</font>   \n",
    "<font color = green>Proceso II</font>  \n",
    "<font color = blue>Proceso III</font>  \n",
    "<font color = yellow>Demanda de C hasta 10 ton/hr</font>  \n",
    "<font color = Purple>Demanda de C hasta 15 ton/hr</font>  \n",
    "\n",
    "**Ganancía Total:**  \n",
    "$$-(-(950B_0) \\color{red}{-(500A_1)-(1000N)-(250A_1)}\\color{blue}{-(2000N)-(550B_3)}\\color{yellow}{+(1800CD1)})$$  \n",
    "\n",
    "**Restricciones:**\n",
    "$$\\color{red}{B_1-0.9A_1 = 0}$$\n",
    "$$B_3-B_1-B_0 = 0$$\n",
    "$$\\color{blue}{C_3-0.95B_3 = 0}$$\n",
    "$$\\color{yellow}{CD_1-C_3 = 0}$$\n",
    "$$\\color{red}{A_1 \\leq 16}$$\n",
    "$$\\color{yellow}{CD_1 \\leq 10}$$\n",
    "$$\\color{yellow}{-CD_1 \\leq 0}$$\n",
    "$$N \\leq 1$$\n",
    "$$-N \\leq -1$$"
   ]
  },
  {
   "cell_type": "code",
   "execution_count": 1,
   "metadata": {},
   "outputs": [
    {
     "data": {
      "text/plain": [
       "     fun: -438.59649122807014\n",
       " message: 'Optimization terminated successfully.'\n",
       "     nit: 7\n",
       "   slack: array([ 4.30409357,  0.        , 10.        ,  0.        ,  0.        ])\n",
       "  status: 0\n",
       " success: True\n",
       "       x: array([11.69590643,  0.        , 10.52631579, 10.52631579, 10.        ,\n",
       "       10.        ,  1.        ])"
      ]
     },
     "execution_count": 1,
     "metadata": {},
     "output_type": "execute_result"
    }
   ],
   "source": [
    "import scipy.optimize as opt\n",
    "import numpy as np\n",
    "C = np.array([750, 950, 0, 550, 0, -1800, 3000])\n",
    "Ae = np.array([[-0.9,0,1,0,0,0,0],\n",
    "               [0,-1,-1,1,0,0,0],\n",
    "               [0,0,0,-0.95,1,0,0],\n",
    "               [0,0,0,0,-1,1,0]])\n",
    "be = np.array([0,0,0,0])\n",
    "Ad = np.array([[1,0,0,0,0,0,0],\n",
    "               [0,0,0,0,0,1,0],\n",
    "               [0,0,0,0,0,-1,0],\n",
    "               [0,0,0,0,0,0,1],\n",
    "               [0,0,0,0,0,0,-1]])\n",
    "bd = np.array([16,10,0,1,-1])\n",
    "resultado = opt.linprog(C, A_ub=Ad, b_ub=bd, A_eq=Ae, b_eq=be)\n",
    "resultado"
   ]
  },
  {
   "cell_type": "code",
   "execution_count": 2,
   "metadata": {},
   "outputs": [
    {
     "data": {
      "text/html": [
       "<div>\n",
       "<style scoped>\n",
       "    .dataframe tbody tr th:only-of-type {\n",
       "        vertical-align: middle;\n",
       "    }\n",
       "\n",
       "    .dataframe tbody tr th {\n",
       "        vertical-align: top;\n",
       "    }\n",
       "\n",
       "    .dataframe thead th {\n",
       "        text-align: right;\n",
       "    }\n",
       "</style>\n",
       "<table border=\"1\" class=\"dataframe\">\n",
       "  <thead>\n",
       "    <tr style=\"text-align: right;\">\n",
       "      <th></th>\n",
       "      <th>A1</th>\n",
       "      <th>B0</th>\n",
       "      <th>B1</th>\n",
       "      <th>B3</th>\n",
       "      <th>C3</th>\n",
       "      <th>CD1</th>\n",
       "      <th>Ganancia</th>\n",
       "    </tr>\n",
       "  </thead>\n",
       "  <tbody>\n",
       "    <tr>\n",
       "      <th>Variables</th>\n",
       "      <td>11.695906</td>\n",
       "      <td>0.0</td>\n",
       "      <td>10.526316</td>\n",
       "      <td>10.526316</td>\n",
       "      <td>10.0</td>\n",
       "      <td>10.0</td>\n",
       "      <td>438.596491</td>\n",
       "    </tr>\n",
       "  </tbody>\n",
       "</table>\n",
       "</div>"
      ],
      "text/plain": [
       "                  A1   B0         B1         B3    C3   CD1    Ganancia\n",
       "Variables  11.695906  0.0  10.526316  10.526316  10.0  10.0  438.596491"
      ]
     },
     "execution_count": 2,
     "metadata": {},
     "output_type": "execute_result"
    }
   ],
   "source": [
    "import pandas as pd\n",
    "info = pd.DataFrame({'A1': [resultado.x[0]], 'B0': [resultado.x[1]], 'B1': [resultado.x[2]], 'B3': [resultado.x[3]], 'C3': [resultado.x[4]], 'CD1': [resultado.x[5]], 'Ganancia': [-resultado.fun]}, index = ['Variables'])\n",
    "info"
   ]
  },
  {
   "cell_type": "markdown",
   "metadata": {},
   "source": [
    "\n"
   ]
  },
  {
   "cell_type": "markdown",
   "metadata": {},
   "source": [
    "Los resultados de la tabla muestran que no se comprara nada de B del mercado y en cambio todo sera producido a partir del proceso I, a su vez la formación de C se realizara únicamente por el proceso III.  \n",
    "Esto generaría una ganancia de 438.59/hr con una demanda de C de 10 ton/hr.\n",
    "Sin embargo hace falta comprobar si al cobrar 1500/ton en las demandas de C de 10-15ton/hr pueden aumentar las ganancias de producción."
   ]
  },
  {
   "cell_type": "code",
   "execution_count": null,
   "metadata": {},
   "outputs": [],
   "source": []
  },
  {
   "cell_type": "code",
   "execution_count": null,
   "metadata": {},
   "outputs": [],
   "source": []
  },
  {
   "cell_type": "code",
   "execution_count": null,
   "metadata": {},
   "outputs": [],
   "source": []
  },
  {
   "cell_type": "code",
   "execution_count": null,
   "metadata": {},
   "outputs": [],
   "source": []
  },
  {
   "cell_type": "code",
   "execution_count": null,
   "metadata": {},
   "outputs": [],
   "source": []
  }
 ],
 "metadata": {
  "kernelspec": {
   "display_name": "Python 3",
   "language": "python",
   "name": "python3"
  },
  "language_info": {
   "codemirror_mode": {
    "name": "ipython",
    "version": 3
   },
   "file_extension": ".py",
   "mimetype": "text/x-python",
   "name": "python",
   "nbconvert_exporter": "python",
   "pygments_lexer": "ipython3",
   "version": "3.6.5"
  }
 },
 "nbformat": 4,
 "nbformat_minor": 2
}
